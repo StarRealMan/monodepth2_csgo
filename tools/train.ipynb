{
 "cells": [
  {
   "cell_type": "code",
   "execution_count": null,
   "metadata": {},
   "outputs": [],
   "source": [
    "import os\n",
    "import sys\n",
    "sys.path.append(\"..\")\n",
    "import time\n",
    "import torch\n",
    "import torch.nn as nn\n",
    "import torch.optim as optim\n",
    "from torch.utils.data import DataLoader\n",
    "\n",
    "from ..model import monodepth\n",
    "from ..model import loss\n",
    "from ..dataset import csgo_dataset"
   ]
  },
  {
   "cell_type": "code",
   "execution_count": null,
   "metadata": {},
   "outputs": [],
   "source": [
    "arg_batchsize = 4\n",
    "arg_workers = 8\n",
    "arg_epochs = 10\n",
    "arg_lr = 1e-4\n",
    "arg_b1 = 0.5\n",
    "arg_b2 = 0.999\n",
    "arg_nf = 32\n",
    "arg_lambda = 0.1\n",
    "\n",
    "arg_image_shape = (235, 638)\n",
    "\n",
    "arg_fx = 300.0\n",
    "arg_fy = 300.0\n",
    "arg_cx = arg_image_shape[0]/2.0\n",
    "arg_cy = arg_image_shape[1]/2.0\n",
    "\n",
    "\n",
    "arg_K = torch.Tensor([[arg_fx, 0, arg_cx],\n",
    "                      [0, arg_fy, arg_cy],\n",
    "                      [0, 0, 1]])"
   ]
  },
  {
   "cell_type": "code",
   "execution_count": null,
   "metadata": {},
   "outputs": [],
   "source": [
    "device = 'cuda' if torch.cuda.is_available() else 'cpu'\n",
    "torch.cuda.set_device(3)"
   ]
  },
  {
   "cell_type": "code",
   "execution_count": null,
   "metadata": {},
   "outputs": [],
   "source": [
    "depthnet = monodepth.DepthNet(3, arg_nf).to(device)\n",
    "posenet = monodepth.PoseNet(3, arg_nf).to(device)\n",
    "\n",
    "monodepth.weight_init(depthnet)\n",
    "monodepth.weight_init(depthnet)\n",
    "\n",
    "depthnet_optim = optim.Adam(depthnet.parameters(), lr = arg_lr, betas = (arg_b1, arg_b2))\n",
    "posenet_optim = optim.Adam(posenet.parameters(), lr = arg_lr, betas = (arg_b1, arg_b2))\n",
    "\n",
    "recon_loss = loss.Loss(arg_K)\n",
    "pose_t_loss = nn.MSELoss()\n",
    "pose_r_loss = nn.MSELoss()"
   ]
  },
  {
   "cell_type": "code",
   "execution_count": null,
   "metadata": {},
   "outputs": [],
   "source": [
    "dataroots = [\"../data/Inferno_1\", \"../data/Inferno_2\", \"../data/Inferno_3\",\n",
    "             \"../data/Mirage_1\", \"../data/Mirage_2\", \"../data/Mirage_3\",\n",
    "             \"../data/Nuke_1\", \"../data/Nuke_2\", \"../data/Nuke_3\",\n",
    "             \"../data/Overpass_1\", \"../data/Overpass_2\", \"../data/Overpass_3\",\n",
    "             \"../data/Train_1\", \"../data/Train_2\", \"../data/Train_3\",\n",
    "             \"../data/Vertigo_1\", \"../data/Vertigo_2\", \"../data/Vertigo_3\"]\n",
    "\n",
    "top_clip = [3, 2, 3, \n",
    "            2, 2, 4,\n",
    "            2, 2, 2,\n",
    "            3, 3, 2,\n",
    "            2, 2, 2,\n",
    "            4, 2, 2]\n",
    "\n",
    "bottom_clip = [9, 7, 17,\n",
    "               8, 6, 6,\n",
    "               8, 7, 6,\n",
    "               6, 7, 7,\n",
    "               8, 6, 16,\n",
    "               6, 7, 6]\n",
    "\n",
    "lens = [775, 797, 705,\n",
    "        557, 568, 557,\n",
    "        514, 491, 538,\n",
    "        617, 621, 538,\n",
    "        445, 480, 643,\n",
    "        421, 503, 612]\n",
    "\n",
    "dataset = csgo_dataset.CSGODataset(arg_K, arg_image_shape, dataroots, top_clip, bottom_clip, lens)\n",
    "dataloader = DataLoader(dataset, batch_size = arg_batchsize, shuffle=True, num_workers = arg_workers)"
   ]
  },
  {
   "cell_type": "code",
   "execution_count": null,
   "metadata": {},
   "outputs": [],
   "source": [
    "print('train is starting')\n",
    "depthnet = depthnet.train()\n",
    "posenet = posenet.train()\n",
    "\n",
    "for epoch in range(arg_epochs):\n",
    "    losses = 0\n",
    "    \n",
    "    for image_last, image_this, image_next in dataloader:\n",
    "        t = time.time()\n",
    "        \n",
    "        depth_this = depthnet(image_this)\n",
    "        \n",
    "        last_trans, last_rot = posenet(image_this, image_last)\n",
    "        next_trans, next_rot = posenet(image_this, image_next)\n",
    "        \n",
    "        last_loss = recon_loss(image_last, image_this, depth_this, last_trans, last_rot)\n",
    "        next_loss = recon_loss(image_next, image_this, depth_this, next_trans, next_rot)\n",
    "        pose_consistant_loss = pose_t_loss(last_trans, next_trans) + pose_r_loss(last_rot, next_rot)\n",
    "        final_loss = min(last_loss, next_loss) + arg_lambda * pose_consistant_loss\n",
    "        \n",
    "        losses += final_loss\n",
    "        \n",
    "        depthnet_optim.zero_grad()\n",
    "        posenet_optim.zero_grad()\n",
    "        \n",
    "        final_loss.backward()\n",
    "        depthnet_optim.step()\n",
    "        posenet_optim.step()\n",
    "        \n",
    "    print(f'[{epoch + 1}/{arg_epochs}]\\tloss : {losses:.6f}\\ttime : {time.time() - t:.3f}s')\n",
    "    "
   ]
  },
  {
   "cell_type": "code",
   "execution_count": null,
   "metadata": {},
   "outputs": [],
   "source": [
    "torch.save(depthnet_optim.state_dict, '../models/depthnet/final_model.pt')\n",
    "torch.save(posenet_optim.state_dict, '../models/posenet/final_model.pt')"
   ]
  }
 ],
 "metadata": {
  "interpreter": {
   "hash": "5c6b1850e54510a708682478a6a7fb41a5eeb954c216c5ab9399aec50c6996c1"
  },
  "kernelspec": {
   "display_name": "Python 3.8.8 64-bit ('base': conda)",
   "language": "python",
   "name": "python3"
  },
  "language_info": {
   "codemirror_mode": {
    "name": "ipython",
    "version": 3
   },
   "file_extension": ".py",
   "mimetype": "text/x-python",
   "name": "python",
   "nbconvert_exporter": "python",
   "pygments_lexer": "ipython3",
   "version": "3.9.7"
  },
  "orig_nbformat": 4
 },
 "nbformat": 4,
 "nbformat_minor": 2
}
